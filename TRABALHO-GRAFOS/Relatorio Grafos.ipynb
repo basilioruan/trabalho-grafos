{
 "cells": [
  {
   "cell_type": "markdown",
   "metadata": {},
   "source": [
    "# Relatório final do trabalho de grafos"
   ]
  },
  {
   "cell_type": "markdown",
   "metadata": {},
   "source": [
    "Alunos: Liliana Sabato Teodoro (201810021)"
   ]
  },
  {
   "cell_type": "markdown",
   "metadata": {},
   "source": [
    "       Rafaela Custorio (201720376)"
   ]
  },
  {
   "cell_type": "markdown",
   "metadata": {},
   "source": [
    "       Ruan Basilio (201720089)"
   ]
  },
  {
   "cell_type": "markdown",
   "metadata": {},
   "source": [
    "Turma: 14"
   ]
  },
  {
   "cell_type": "markdown",
   "metadata": {},
   "source": [
    "Professor: Mayron César de O. Moreira"
   ]
  },
  {
   "cell_type": "markdown",
   "metadata": {},
   "source": [
    "# Introdução"
   ]
  },
  {
   "cell_type": "markdown",
   "metadata": {},
   "source": [
    "Um dos problemas estudados em grafos é o problema da coloração de vértices que consiste em atribuir cores (rótulos) aos \n",
    "vértices do grafo de maneira a não se ter vértices ligados com cores iguais, o problema de otimização da coloração é \n",
    "colorir o grafo com o menor número de cores possível, afim de se encontrar a solução ótima da coloração. Uma das variações desse problema está relacionado à montagem de horários escolares utilizando abordagem de coloração em grafos, como a montagem desses horários pode conter diversas restrições como restrições do próprio MEC (Ministério da Educação), da escola e dos professores, faz com que seja difícil obter soluções ótimas em todos os casos. "
   ]
  },
  {
   "cell_type": "markdown",
   "metadata": {},
   "source": [
    "# Objetivo"
   ]
  },
  {
   "cell_type": "markdown",
   "metadata": {},
   "source": [
    "O objetivo desse trabalho é tentar encontrar uma solução para a criação de horários de determinadas escolas, utilizando abordagem em\n",
    "grafos e coloração de vértices, atendendo ao menos as restrições impostas pela escola e professores, visando também atender os pedidos\n",
    "de horários dos professores."
   ]
  },
  {
   "cell_type": "markdown",
   "metadata": {},
   "source": [
    "# Desenvolvimento"
   ]
  },
  {
   "cell_type": "markdown",
   "metadata": {},
   "source": [
    "Para o desenvolvimento do trabalho foi utilizado a linguagem Python, mais precisamente a versão 3.6.9, com uma abordagem utilizando coloração de grafos, para implementação do \n",
    "grafo foi usado uma estrutura de lista de adjacência em que o grafo é não direcionado, classes auxiliares foram utilizadas\n",
    "afim de ajudar a visualização e implementação no geral. Segue abaixo as classes auxiliare lista onde é chamada pela classe da lista de adjacencia."
   ]
  },
  {
   "cell_type": "code",
   "execution_count": 1,
   "metadata": {},
   "outputs": [],
   "source": [
    "class Lista:\n",
    "    inicio = None\n",
    "    fim = None\n",
    "    \n",
    "    def adicionaVertice(self, ID):\n",
    "        if(self.inicio == None):\n",
    "            self.inicio = Noh(ID)\n",
    "            self.fim = self.inicio\n",
    "            return\n",
    "\n",
    "        novo = Noh(ID)\n",
    "        self.fim.proximo = novo\n",
    "        self.fim = novo"
   ]
  },
  {
   "cell_type": "markdown",
   "metadata": {},
   "source": [
    "E complementando a classe Lista tem-se a classe Noh, que segue os padrões de node de algortimos de listas comuns guardando\n",
    "o próximo item e sua relação. Segue o código da classe Noh."
   ]
  },
  {
   "cell_type": "code",
   "execution_count": null,
   "metadata": {},
   "outputs": [],
   "source": [
    "class Noh:\n",
    "    ID = None\n",
    "    proximo = None\n",
    "    relacao = None\n",
    "    def __init__(self, ID):\n",
    "        self.ID = ID"
   ]
  },
  {
   "cell_type": "markdown",
   "metadata": {},
   "source": [
    "Para modelagem em grafos, foi necessário adotar uma estratégia em relação a como seria os vértices do grafo e suas arestas,\n",
    "a modelagem do vértice consiste em pegar as informações de uma planilha e tratar os dados para construir os vértices e suas\n",
    "arestas. O vértice é composto pelo id de identificação criado pelo código em si, as informações adicionais do vértice são \n",
    "coletadas fazendo uma relação do professor, a quantidade de aula e a turma em que será lecionada a matéria. Se um professor\n",
    "leciona a mesma matéria mais de uma vez é criado vértices diferentes, sendo usado a diferenciação pelo id. Todo vértice por padrão é criado sem cor, o que é simbolizado pelo número negativo -1. As ligações dos \n",
    "vértices será tratado mais a frente. Segue o código da classe Vertice."
   ]
  },
  {
   "cell_type": "code",
   "execution_count": 3,
   "metadata": {},
   "outputs": [],
   "source": [
    "class Vertice:\n",
    "    ID = None\n",
    "    professor = None\n",
    "    materia = None\n",
    "    turma = None\n",
    "    cor = None\n",
    "    grau = None\n",
    "    restricoes = None\n",
    "    preferencias = None\n",
    "    preferenciasNaoAtendidas = None\n",
    "\n",
    "    def __init__(self, ID, prof, mat, Turma):\n",
    "        self.ID = ID\n",
    "        self.professor = prof\n",
    "        self.materia = mat\n",
    "        self.turma = Turma\n",
    "        self.cor = -1\n",
    "        self.grau = 0\n",
    "        self.restricoes = []\n",
    "        self.preferencias = []\n",
    "        self.preferenciasNaoAtendidas = 0"
   ]
  },
  {
   "cell_type": "markdown",
   "metadata": {},
   "source": [
    "Como dito anteriormente uma lista de adjacência foi usada como estrutura de dados para modelagem do grafo, vários atributos\n",
    "foram usados para a resolução do problema, a implementação mais a fundo dessa estrutura de dados consiste em um dicionário\n",
    "Python de listas, sendo essa lista a estrutura auxiliar dito mais acima. Segue o código da classe ListaAdjacencia."
   ]
  },
  {
   "cell_type": "code",
   "execution_count": 4,
   "metadata": {},
   "outputs": [],
   "source": [
    "class ListaAdjacencia:\n",
    "    listaAdj = None\n",
    "    vertices = None\n",
    "    ID = 0\n",
    "    totalPreferencias = None\n",
    "    horarios = None\n",
    "    preferenciasAtendidas = None\n",
    "    cores = None\n",
    "    naoColoridos = None\n",
    "    segunda = None\n",
    "    terca = None\n",
    "    quarta = None\n",
    "    quinta = None\n",
    "    sexta = None\n",
    "\n",
    "    def __init__(self):\n",
    "        self.listaAdj = {}\n",
    "        self.vertices = {}\n",
    "        self.ID = 0\n",
    "        self.totalPreferencias = 0\n",
    "        self.horarios = 0\n",
    "        self.segunda = None\n",
    "        self.terca = None\n",
    "        self.quarta = None\n",
    "        self.quinta = None\n",
    "        self.sexta = None\n",
    "        self.preferenciasAtendidas = []\n",
    "        self.cores = None"
   ]
  },
  {
   "cell_type": "markdown",
   "metadata": {},
   "source": [
    "Para a criação do vértice é utilizado o id que é um atributo da própria lista de adjacência, e como dito anteriormente, \n",
    "faz a relação do professor, da materia e a turma lecionada, lembrando que pode ter vértices com informações iguais porém\n",
    "o id difere devido ao fato de algumas matérias serem lecionadas mais de uma vez na semana. Segue o código de criação do\n",
    "vértice."
   ]
  },
  {
   "cell_type": "code",
   "execution_count": 5,
   "metadata": {},
   "outputs": [],
   "source": [
    "def adicionaVertice(self, professor, materia, turma):\n",
    "        v = Vertice(self.ID, professor, materia, turma)\n",
    "        self.vertices[self.ID] = v\n",
    "        self.listaAdj[self.ID] = Lista()\n",
    "        self.ID+=1"
   ]
  },
  {
   "cell_type": "markdown",
   "metadata": {},
   "source": [
    "As ligações das arestas é feito na classe da lista de adjacência, seŕa explicado mais a frente como as ligações são selecionadas.\n",
    "Segue a criação de arestas no grafo."
   ]
  },
  {
   "cell_type": "code",
   "execution_count": 6,
   "metadata": {},
   "outputs": [],
   "source": [
    "    def adicionaAresta(self, IDV1, IDV2):\n",
    "        self.listaAdj[IDV1].adicionaVertice(IDV2)"
   ]
  },
  {
   "cell_type": "markdown",
   "metadata": {},
   "source": [
    "Para se obter os vértices adjacentes de um vértice é utilizado o método de obter os vizinhos."
   ]
  },
  {
   "cell_type": "code",
   "execution_count": 7,
   "metadata": {},
   "outputs": [],
   "source": [
    "    def getVizinhos(self, v):\n",
    "        vizinhos = []\n",
    "        listaVizinhos = self.listaAdj[v]\n",
    "        viz = listaVizinhos.inicio\n",
    "        while(viz != None):\n",
    "            vizinhos.append(viz.ID)\n",
    "            viz = viz.proximo\n",
    "        return vizinhos"
   ]
  },
  {
   "cell_type": "markdown",
   "metadata": {},
   "source": [
    "Com a obtenção dos vizinhos do vértice é possível ajustar o grau dos vértices."
   ]
  },
  {
   "cell_type": "code",
   "execution_count": 8,
   "metadata": {},
   "outputs": [],
   "source": [
    "    def ajustaGrau(self):\n",
    "        for v in self.listaAdj:\n",
    "            self.vertices[v].grau = len(self.getVizinhos(v))"
   ]
  },
  {
   "cell_type": "markdown",
   "metadata": {},
   "source": [
    "Para auxiliar na implementção foi usado um método para retornar o valor do id geral, que corresponde ao número de vértices\n",
    "que o grafo possui."
   ]
  },
  {
   "cell_type": "code",
   "execution_count": 9,
   "metadata": {},
   "outputs": [],
   "source": [
    "    def numeroVertices(self):\n",
    "        return self.ID"
   ]
  },
  {
   "cell_type": "markdown",
   "metadata": {},
   "source": [
    "A ligação dos vértices é uma parte muito importante para resolução do problema de agendamento de horários, para a criação\n",
    "das arestas que ligam os vértices é utilizado o seguinte critério, caso dois vértices possuam o mesmo professor e/ou a mesma\n",
    "turma, é criada essa aresta, afim de se manter a integridade das restrições de não se ter duas aulas no mesmo horário para\n",
    "a mesma turma e duas aulas no mesmo horário para o professor. O método retorna um booleando que será tratado na leitura dos\n",
    "dados dos arquivos."
   ]
  },
  {
   "cell_type": "code",
   "execution_count": 10,
   "metadata": {},
   "outputs": [],
   "source": [
    "    def verificaConflito(self, ID1, ID2):\n",
    "        if(self.vertices[ID1].professor == self.vertices[ID2].professor):\n",
    "            return True\n",
    "        elif(self.vertices[ID1].turma == self.vertices[ID2].turma):\n",
    "            return True\n",
    "        else:\n",
    "            return False"
   ]
  },
  {
   "cell_type": "markdown",
   "metadata": {},
   "source": [
    "No algoritmo de coloração, que será visto mais a frente é necessário obter o vértice inicial para executar o algoritmo, e é\n",
    "escolhido o vértice de maior grau."
   ]
  },
  {
   "cell_type": "code",
   "execution_count": 11,
   "metadata": {},
   "outputs": [],
   "source": [
    "    def getInicial(self):\n",
    "        maiorGrau = 0\n",
    "        for v in self.listaAdj:\n",
    "            grauVertice = len(self.getVizinhos(v))\n",
    "            if(grauVertice > maiorGrau):\n",
    "                maiorGrau = grauVertice\n",
    "                inicial = self.vertices[v]\n",
    "        return inicial"
   ]
  },
  {
   "cell_type": "markdown",
   "metadata": {},
   "source": [
    "Na resolução do problema foi pensado em criar uma lista de cores possíveis para colorir o grafo, de forma a se converter \n",
    "os possíveis horários em cores para o grafo, a cor seria um número que varia de 0 até o limite de cores que seria possível\n",
    "colorir o grafo, por exemplo, se uma escola possui 6 horários por dia da semana, então teria no máximo 30 horários disponíveis\n",
    "ou seja, 30 cores, cada dia da semana com seus respectivos 6 horários. Para isso é feito a relação entre a tabela de horários\n",
    "e as cores que cada dia pode assumir."
   ]
  },
  {
   "cell_type": "code",
   "execution_count": 12,
   "metadata": {},
   "outputs": [],
   "source": [
    "    def criaListaCores(self, configuracao):\n",
    "        self.horarios = len(configuracao)\n",
    "        self.segunda = {}\n",
    "        self.segunda[configuracao[0]] = 0\n",
    "        for i in range(1, len(configuracao)):\n",
    "            self.segunda[configuracao[i]] = i * 5\n",
    "        \n",
    "        self.terca = {}\n",
    "        self.terca[configuracao[0]] = 1\n",
    "        cont = 1\n",
    "        for i in range(1, len(configuracao)):\n",
    "            self.terca[configuracao[i]] = cont + 5\n",
    "            cont+=5\n",
    "        \n",
    "\n",
    "        self.quarta = {}\n",
    "        self.quarta[configuracao[0]] = 2\n",
    "        cont = 2\n",
    "        for i in range(1, len(configuracao)):\n",
    "            self.quarta[configuracao[i]] = cont + 5\n",
    "            cont+=5\n",
    "\n",
    "        self.quinta = {}\n",
    "        self.quinta[configuracao[0]] = 3\n",
    "        cont = 3\n",
    "        for i in range(1, len(configuracao)):\n",
    "            self.quinta[configuracao[i]] = cont + 5\n",
    "            cont+=5\n",
    "        \n",
    "        self.sexta = {}\n",
    "        self.sexta[configuracao[0]] = 4\n",
    "        cont = 4\n",
    "        for i in range(1, len(configuracao)):\n",
    "            self.sexta[configuracao[i]] = cont + 5\n",
    "            cont+=5"
   ]
  },
  {
   "cell_type": "markdown",
   "metadata": {},
   "source": [
    "Após se ter as listas de cores, cada lista simbolizando um dia, foi necessário a criação das restrições impostas pela escola \n",
    "e pelos professores, restrições essas que não podem ser violadas, pois inviabilizam a criação dos horários. Tem-se as restrições\n",
    "do horário do professor, podendo ser horários em que o mesmo leciona em outras escolas, e horários em que a turma não deve \n",
    "possuir aulas. Segue a criação desses dois grupos de restrições."
   ]
  },
  {
   "cell_type": "code",
   "execution_count": 14,
   "metadata": {},
   "outputs": [
    {
     "ename": "IndentationError",
     "evalue": "unindent does not match any outer indentation level (<tokenize>, line 20)",
     "output_type": "error",
     "traceback": [
      "\u001b[0;36m  File \u001b[0;32m\"<tokenize>\"\u001b[0;36m, line \u001b[0;32m20\u001b[0m\n\u001b[0;31m    def restricoesProfessor(self, restricaoProfessor):\u001b[0m\n\u001b[0m    ^\u001b[0m\n\u001b[0;31mIndentationError\u001b[0m\u001b[0;31m:\u001b[0m unindent does not match any outer indentation level\n"
     ]
    }
   ],
   "source": [
    " def restricoesTurma(self, restricaoTurma):\n",
    "        qtdLinhas = int(restricaoTurma.index.stop)\n",
    "        for i in range(qtdLinhas):\n",
    "            turma = restricaoTurma[\"Turma\"][i]\n",
    "            dia = restricaoTurma[\"Dia da semana\"][i]\n",
    "            horario = str(restricaoTurma[\"Horário da restrição\"][i])\n",
    "            for elemento in self.listaAdj:\n",
    "                if(self.vertices[elemento].turma == turma):\n",
    "                    if(dia == \"Segunda\"):\n",
    "                        self.vertices[elemento].restricoes.append(self.segunda[horario])\n",
    "                    elif(dia == \"Terça\"):\n",
    "                        self.vertices[elemento].restricoes.append(self.terca[horario])\n",
    "                    elif(dia == \"Quarta\"):\n",
    "                        self.vertices[elemento].restricoes.append(self.quarta[horario])\n",
    "                    elif(dia == \"Quinta\"):\n",
    "                        self.vertices[elemento].restricoes.append(self.quinta[horario])\n",
    "                    elif(dia == \"Sexta\"):\n",
    "                        self.vertices[elemento].restricoes.append(self.sexta[horario])\n",
    "    \n",
    "    def restricoesProfessor(self, restricaoProfessor):\n",
    "        qtdLinhas = int(restricaoProfessor.index.stop)\n",
    "        for i in range(qtdLinhas):\n",
    "            professor = restricaoProfessor[\"Professor:\"][i]\n",
    "            dia = restricaoProfessor[\"Dia da semana da restrição:\"][i]\n",
    "            horario = str(restricaoProfessor[\"Restrição de Horário:\"][i])\n",
    "            for elemento in self.listaAdj:\n",
    "                if(self.vertices[elemento].professor == professor):\n",
    "                    if(dia == \"Segunda\" and self.segunda[horario] not in self.vertices[elemento].restricoes):\n",
    "                        self.vertices[elemento].restricoes.append(self.segunda[horario])\n",
    "                    elif(dia == \"Terça\" and self.terca[horario] not in self.vertices[elemento].restricoes):\n",
    "                        self.vertices[elemento].restricoes.append(self.terca[horario])\n",
    "                    elif(dia == \"Quarta\" and self.quarta[horario] not in self.vertices[elemento].restricoes):\n",
    "                        self.vertices[elemento].restricoes.append(self.quarta[horario])\n",
    "                    elif(dia == \"Quinta\" and self.quinta[horario] not in self.vertices[elemento].restricoes):\n",
    "                        self.vertices[elemento].restricoes.append(self.quinta[horario])\n",
    "                    elif(dia == \"Sexta\" and self.sexta[horario] not in self.vertices[elemento].restricoes):\n",
    "                        self.vertices[elemento].restricoes.append(self.sexta[horario])"
   ]
  },
  {
   "cell_type": "markdown",
   "metadata": {},
   "source": [
    "Como foi citado acima, além das restrições tem-se as preferências dos professores, seriam horários que os mesmos desejam lecionar \n",
    "porém essas preferências não são obrigatórias, apenas desejáveis, para uma solução boa as preferências são levadas em consideração\n",
    " mas algumas vezes é necessário o não cumprimento das preferências para viabilizar a criação dos horários. Segue a criação das prefêrencias"
   ]
  },
  {
   "cell_type": "code",
   "execution_count": null,
   "metadata": {},
   "outputs": [],
   "source": [
    " def preferenciasProfessor(self, preferencias):\n",
    "        qtdLinhas = int(preferencias.index.stop)\n",
    "        self.totalPreferencias = qtdLinhas\n",
    "        for i in range(qtdLinhas):\n",
    "            professor = preferencias[\"Professor:\"][i]\n",
    "            dia = preferencias[\"Dia da semana:\"][i]\n",
    "            horario = str(preferencias[\"Horário:\"][i])\n",
    "            for elemento in self.listaAdj:\n",
    "                if(self.vertices[elemento].professor == professor):\n",
    "                    if(dia == \"Segunda\" and self.segunda[horario] not in self.vertices[elemento].restricoes):\n",
    "                        self.vertices[elemento].preferencias.append(self.segunda[horario])\n",
    "                    elif(dia == \"Terça\" and self.terca[horario] not in self.vertices[elemento].restricoes):\n",
    "                        self.vertices[elemento].preferencias.append(self.terca[horario])\n",
    "                    elif(dia == \"Quarta\" and self.quarta[horario] not in self.vertices[elemento].restricoes):\n",
    "                        self.vertices[elemento].preferencias.append(self.quarta[horario])\n",
    "                    elif(dia == \"Quinta\" and self.quinta[horario] not in self.vertices[elemento].restricoes):\n",
    "                        self.vertices[elemento].preferencias.append(self.quinta[horario])\n",
    "                    elif(dia == \"Sexta\" and self.sexta[horario] not in self.vertices[elemento].restricoes):\n",
    "                        self.vertices[elemento].preferencias .append(self.sexta[horario])\n",
    "                    self.vertices[elemento].preferenciasNaoAtendidas += 1"
   ]
  },
  {
   "cell_type": "markdown",
   "metadata": {},
   "source": [
    "Após a execução do algoritmo de coloração, que será visto mais a frente, é preciso fazer duas verificações para a análise \n",
    "da solução, a verificação de vértices que não foram coloridos, que ocorre quando o máximo de cores é alcançado e ainda tem \n",
    "vértices no grafo sem cor, e a verificação da porcentagem de preferências que foram atendidas, o ideal seria 100%, mas como\n",
    "citado anteriormente as vezes é necessário deixar de atender as preferências para viabilizar a solução."
   ]
  },
  {
   "cell_type": "code",
   "execution_count": null,
   "metadata": {},
   "outputs": [],
   "source": [
    " def verificaColoracao(self):\n",
    "        cont = 0\n",
    "        for elemento in self.listaAdj:\n",
    "            if(self.vertices[elemento].cor == -1):\n",
    "                cont+=1\n",
    "        self.naoColoridos = cont\n",
    "        return cont\n",
    "    \n",
    "    def verificaPreferencias(self):\n",
    "        return (len(self.preferenciasAtendidas)/self.totalPreferencias)"
   ]
  },
  {
   "cell_type": "markdown",
   "metadata": {},
   "source": [
    "O algoritmo de coloração utilizado na solução foi o algoritmo DSatur, porém com mudanças para ter mais enfâse na solução \n",
    "do problema dos horários das escolas, sendo que foi abordado duas versões do algoritmo devido ao fato de ser um algoritmo \n",
    "de conversão rápida não se teve problema no quesito de tempo para a execução. A primeira versão é o algoritmo puro, por assim\n",
    "dizer, nesse caso não é priorizado a coloração da preferência do professor caso ocorra de ser uma cor preferencial é contabilizada\n",
    "mas o algoritmo não foca nisso, o foco é apenas garantir as restrições."
   ]
  },
  {
   "cell_type": "code",
   "execution_count": null,
   "metadata": {},
   "outputs": [],
   "source": [
    "def DSATUR(grafo):\n",
    "    listaAdj = grafo.listaAdj\n",
    "    vertices = grafo.vertices\n",
    "    horarios = grafo.horarios\n",
    "    cores = []\n",
    "    verticeAtual = grafo.getInicial()\n",
    "    for v in listaAdj:\n",
    "        coresVizinhos = []\n",
    "        for vizinhos in grafo.getVizinhos(verticeAtual.ID):\n",
    "            if(vertices[vizinhos].cor != -1 and vertices[vizinhos].cor not in coresVizinhos):\n",
    "                coresVizinhos.append(vertices[vizinhos].cor)\n",
    "        for i in range (horarios*5):\n",
    "            if(i not in coresVizinhos and i not in verticeAtual.restricoes):\n",
    "                if(i in verticeAtual.preferencias and i not in grafo.preferenciasAtendidas):\n",
    "                    grafo.preferenciasAtendidas.append(i)\n",
    "                    verticeAtual.preferenciasNaoAtendidas -= 1\n",
    "                verticeAtual.cor = i\n",
    "                if(i not in cores):\n",
    "                    cores.append(i)\n",
    "                break\n",
    "        verticeAtual = grauSaturacao(grafo, verticeAtual)\n",
    "        \n",
    "    grafo.cores = len(cores)\n",
    "    return len(cores)"
   ]
  },
  {
   "cell_type": "markdown",
   "metadata": {},
   "source": [
    "A outra variação do algoritmo DSatur prioriza a coloração das preferências, de forma a não violar as restrições, tenta-se \n",
    "colorir com uma das cores preferenciais, caso tenha sucesso é contabilizado nas preferências atendidas, caso não seja possível\n",
    "colorir o vértice com essa cor tem-se uma nova tentativa na coloração com as demais cores (horários) disponíveis."
   ]
  },
  {
   "cell_type": "code",
   "execution_count": null,
   "metadata": {},
   "outputs": [],
   "source": [
    "def DSATURpreferencial(grafo):\n",
    "    listaAdj = grafo.listaAdj\n",
    "    vertices = grafo.vertices\n",
    "    horarios = grafo.horarios\n",
    "    flagPreferencia = False\n",
    "    cores = []\n",
    "    verticeAtual = grafo.getInicial()\n",
    "    for v in listaAdj:\n",
    "        coresVizinhos = []\n",
    "        for vizinhos in grafo.getVizinhos(verticeAtual.ID):\n",
    "            if(vertices[vizinhos].cor != -1 and vertices[vizinhos].cor not in coresVizinhos):\n",
    "                coresVizinhos.append(vertices[vizinhos].cor)\n",
    "        for corPreferencial in verticeAtual.preferencias:\n",
    "            if(corPreferencial not in coresVizinhos and corPreferencial not in verticeAtual.restricoes):\n",
    "                verticeAtual.cor = corPreferencial\n",
    "                verticeAtual.preferenciasNaoAtendidas -= 1\n",
    "                if(corPreferencial not in grafo.preferenciasAtendidas):\n",
    "                    grafo.preferenciasAtendidas.append(corPreferencial)\n",
    "                flagPreferencia = True\n",
    "                if(corPreferencial not in cores):\n",
    "                    cores.append(corPreferencial)\n",
    "        if(flagPreferencia == False):\n",
    "            for i in range (horarios*5):\n",
    "                if(i not in coresVizinhos and i not in verticeAtual.restricoes):\n",
    "                    verticeAtual.cor = i\n",
    "                    if(i not in cores):\n",
    "                        cores.append(i)\n",
    "                    break\n",
    "        flagPreferencia = False\n",
    "        verticeAtual = grauSaturacao(grafo, verticeAtual)\n",
    "    \n",
    "    grafo.cores = len(cores)\n",
    "    return len(cores)"
   ]
  },
  {
   "cell_type": "markdown",
   "metadata": {},
   "source": [
    "Para a seleção de ambos os algoritmos foi usado o critério do próprio algoritmo DSatur, que é o grau de saturação, segue o\n",
    "mesmo padrão do algoritmo original pegando o vértice de maior grau de saturação e em caso de empate o eleito será o de maior\n",
    "grau."
   ]
  },
  {
   "cell_type": "code",
   "execution_count": null,
   "metadata": {},
   "outputs": [],
   "source": [
    "def grauSaturacao(grafo, atual):\n",
    "    maxDeegre = 0\n",
    "    verticeCandidato = []\n",
    "    lista = []\n",
    "    for v in grafo.listaAdj:\n",
    "        if(grafo.vertices[v].cor == -1):\n",
    "            for vizinho in grafo.getVizinhos(v):\n",
    "                if(grafo.vertices[vizinho].cor != -1 and grafo.vertices[vizinho].cor not in lista):\n",
    "                    lista.append(grafo.vertices[vizinho].cor)\n",
    "            if(len(lista) > maxDeegre):\n",
    "                maxDeegre = len(lista)\n",
    "                verticeCandidato = []\n",
    "                verticeCandidato.append(grafo.vertices[v])\n",
    "            elif(len(lista) == maxDeegre):\n",
    "                verticeCandidato.append(grafo.vertices[v])\n",
    "        lista = []\n",
    "    if(len(verticeCandidato) == 1):\n",
    "        return verticeCandidato[0]\n",
    "    elif(len(verticeCandidato) == 0):\n",
    "            return None\n",
    "    else:\n",
    "        grauMaior = 0\n",
    "        posicao = 0\n",
    "        for i in range (len(verticeCandidato)):\n",
    "            if(verticeCandidato[i].grau > grauMaior):\n",
    "                grauMaior = verticeCandidato[i].grau\n",
    "                posicao = i\n",
    "        return verticeCandidato[posicao]"
   ]
  },
  {
   "cell_type": "markdown",
   "metadata": {},
   "source": [
    "Com a explicação de como foi feito para encontrar a solução, agora será visto como montar o grafo a partir de um arquivo excel\n",
    "que é um tipo de arquivo muito utilizado para esse tipo de problema de horários de escolas. A leitura é feita seis passos, o primeiro é a obtenção dos vértices do grafo, fazendo a criação de todos os vértices e atribuindo seus dados, o segundo passo é a criação das arestas, explicadas anteriormente, o retorno do método indica se será criada ou não a aresta, o terceiro passo tem-se a leitura dos horários disponíveis de aula e é gerado as possíveis cores para cada dia, o quarto, quinto e sexto passo são para a alocação das restrições de turma, restrições de professores e preferências de professores, respectivamente. Retorna o grafo resultante "
   ]
  },
  {
   "cell_type": "code",
   "execution_count": null,
   "metadata": {},
   "outputs": [],
   "source": [
    "def leGrafo(nomeExcel):\n",
    "    grafo = ListaAdjacencia()\n",
    "\n",
    "    '''Lendo os dados do grafo'''\n",
    "    planilha = pd.read_excel(nomeExcel, sheet_name=0)\n",
    "    colunas = planilha.columns\n",
    "    qtdLinhas = int(planilha.index.stop)\n",
    "    for linha in range (qtdLinhas):\n",
    "        for aulas in range (int(planilha[colunas[3]][linha])):\n",
    "            grafo.adicionaVertice(planilha[colunas[2]][linha], planilha[colunas[0]][linha], planilha[colunas[1]][linha])\n",
    "    \n",
    "    '''Fazendo ligacoes de conflito'''\n",
    "    for i in range (grafo.numeroVertices()):\n",
    "        for j in range (grafo.numeroVertices()):\n",
    "            if(i != j and grafo.verificaConflito(i, j) == True):\n",
    "                grafo.adicionaAresta(i, j)\n",
    "    grafo.ajustaGrau()\n",
    "\n",
    "    '''Lendo configuracoes'''\n",
    "    sheetConfig = pd.read_excel(nomeExcel, sheet_name = 1)\n",
    "    configuracao = []\n",
    "    sheetLinhas = int(sheetConfig.index.stop)\n",
    "    sheetColunas = sheetConfig.columns\n",
    "    for i in range (0, sheetLinhas):\n",
    "       configuracao.append(str(sheetConfig[\"Horários de Inicio de aulas a cada dia.\"][i]))\n",
    "\n",
    "    '''Criar matriz de cores'''\n",
    "    grafo.criaListaCores(configuracao)\n",
    "\n",
    "    '''Lendo restricoes da turma'''\n",
    "    restricoesTurma = pd.read_excel(nomeExcel, sheet_name = 3)\n",
    "    if(not restricoesTurma.empty):\n",
    "        grafo.restricoesTurma(restricoesTurma)\n",
    "\n",
    "    '''Lendo restricoes dos professores'''\n",
    "    restricoesProfessor = pd.read_excel(nomeExcel, sheet_name = 2)\n",
    "    if(not restricoesProfessor.empty):\n",
    "        grafo.restricoesProfessor(restricoesProfessor)\n",
    "    \n",
    "    '''Lendo preferencias dos professores'''\n",
    "    preferenciasProfessor = pd.read_excel(nomeExcel, sheet_name = 4)\n",
    "    if(not preferenciasProfessor.empty):\n",
    "        grafo.preferenciasProfessor(preferenciasProfessor)\n",
    "    \n",
    "    return grafo"
   ]
  },
  {
   "cell_type": "markdown",
   "metadata": {},
   "source": [
    "Após a criação e configuração do grafo o algoritmo de coloração é executado nas suas duas formas, com priorização e sem \n",
    "priorização das preferências, após a execução é verificado qual se comportou melhor, olhando os resultados."
   ]
  },
  {
   "cell_type": "code",
   "execution_count": null,
   "metadata": {},
   "outputs": [],
   "source": [
    "def obterResultado(grafo):\n",
    "    '''Executando DSATUR com preferencia'''\n",
    "    totalCoresPref = DSATURpreferencial(grafo)\n",
    "    totalNaoColoridosPref = grafo.verificaColoracao()\n",
    "    totalPrefAtendidasPref = grafo.verificaPreferencias()\n",
    "\n",
    "    '''Resetando as cores'''\n",
    "    grafo.resetar()\n",
    "\n",
    "    '''Executando DSATUR sem preferencia'''\n",
    "    totalCoresSemPref = DSATUR(grafo)\n",
    "    totalNaoColoridosSemPref = grafo.verificaColoracao()\n",
    "    totalPrefAtendidasSemPref = grafo.verificaPreferencias()\n",
    "\n",
    "    '''Comparando resultados'''\n",
    "    if(totalCoresPref < totalCoresSemPref):\n",
    "        grafo.cores = str(totalCoresPref)\n",
    "        grafo.naoColoridos = str(totalNaoColoridosPref)\n",
    "        print(\"Quantidade de cores: \" + str(totalCoresPref))\n",
    "        print(\"Vértices não coloridos: \" + str(totalNaoColoridosPref))\n",
    "        print(\"Preferencias atendidas sobre o total de preferências: \" + str(totalPrefAtendidasPref))\n",
    "    else:\n",
    "        if(totalNaoColoridosPref < totalNaoColoridosSemPref):\n",
    "            grafo.cores = str(totalCoresPref)\n",
    "            grafo.naoColoridos = str(totalNaoColoridosPref)\n",
    "            print(\"Quantidade de cores: \" + str(totalCoresPref))\n",
    "            print(\"Vértices não coloridos: \" + str(totalNaoColoridosPref))\n",
    "            print(\"Preferencias atendidas sobre o total de preferências: \" + str(totalPrefAtendidasPref)) \n",
    "        elif(totalNaoColoridosPref == totalNaoColoridosSemPref):\n",
    "            if(totalPrefAtendidasPref > totalPrefAtendidasSemPref):\n",
    "                grafo.cores = str(totalCoresPref)\n",
    "                grafo.naoColoridos = str(totalNaoColoridosPref)\n",
    "                print(\"Quantidade de cores: \" + str(totalCoresPref))\n",
    "                print(\"Vértices não coloridos: \" + str(totalNaoColoridosPref))\n",
    "                print(\"Preferencias atendidas sobre o total de preferências: \" + str(totalPrefAtendidasPref))\n",
    "            else:\n",
    "                grafo.cores = str(totalCoresSemPref)\n",
    "                grafo.naoColoridos = str(totalNaoColoridosSemPref)\n",
    "                print(\"Quantidade de cores: \" + str(totalCoresSemPref))\n",
    "                print(\"Vértices não coloridos: \" + str(totalNaoColoridosSemPref))\n",
    "                print(\"Preferencias atendidas sobre o total de preferências: \" + str(totalPrefAtendidasSemPref)) \n",
    "        else:\n",
    "            grafo.cores = str(totalCoresSemPref)\n",
    "            grafo.naoColoridos = str(totalNaoColoridosSemPref)\n",
    "            print(\"Quantidade de cores: \" + str(totalCoresSemPref))\n",
    "            print(\"Vértices não coloridos: \" + str(totalNaoColoridosSemPref))\n",
    "            print(\"Preferencias atendidas sobre o total de preferências: \" + str(totalPrefAtendidasSemPref)) "
   ]
  },
  {
   "cell_type": "markdown",
   "metadata": {},
   "source": [
    "Para cobrir a quantidade de escolas é criado um grafo por escola, seguindo todo o padrão exibido anteriormente, e exibindo,\n",
    "o tempo gasto para cada escola."
   ]
  },
  {
   "cell_type": "code",
   "execution_count": null,
   "metadata": {},
   "outputs": [],
   "source": [
    "def main():\n",
    "\n",
    "    print(\"Escola A:\")\n",
    "    escolaA = leGrafo(\"Escola_A.xlsx\")\n",
    "    inicio = timeit.default_timer()\n",
    "    obterResultado(escolaA)\n",
    "    fim = timeit.default_timer()\n",
    "    tempoA = fim - inicio\n",
    "    print()\n",
    "\n",
    "    print(\"Escola B:\")\n",
    "    escolaB = leGrafo(\"Escola_B.xlsx\")\n",
    "    inicio = timeit.default_timer()\n",
    "    obterResultado(escolaB)\n",
    "    fim = timeit.default_timer()\n",
    "    tempoB = fim - inicio\n",
    "    print()\n",
    "\n",
    "    print(\"Escola C:\")\n",
    "    escolaC = leGrafo(\"Escola_C.xlsx\")\n",
    "    inicio = timeit.default_timer()\n",
    "    obterResultado(escolaC)\n",
    "    fim = timeit.default_timer()\n",
    "    tempoC = fim - inicio\n",
    "    print()\n",
    "\n",
    "    print(\"Escola D:\")\n",
    "    escolaD = leGrafo(\"Escola_D.xlsx\")\n",
    "    inicio = timeit.default_timer()\n",
    "    obterResultado(escolaD)\n",
    "    fim = timeit.default_timer()\n",
    "    tempoD = fim - inicio"
   ]
  },
  {
   "cell_type": "markdown",
   "metadata": {},
   "source": [
    "# Conclusão"
   ]
  },
  {
   "cell_type": "markdown",
   "metadata": {},
   "source": [
    "Com esse trabalho foi possível observar que o algoritmo de DSatur em suas duas variações utilizadas, se comporta de maneira\n",
    "razoável, tendo em vista que é heurístico, o motivo da utilização dessas duas abordagens do algoritmo está relacionado com \n",
    "o desempenho na questão de vértices não coloridos, na escola A e D teve-se uma redução no número de vértices não coloridos utilizando\n",
    "o algoritmo com prioridade, porém o mesmo se comportou mal no ambiente da escola B aumentando o número de vértices não coloridos\n",
    "e na escola C o desempenho foi igual. O código como um todo pega o melhor resultado que obtiver, independente do algoritmo.\n",
    "O critério para escolha é uma hierarquia de menor quantidade de cor, menor quantidade de vértices não coloridos e por fim\n",
    "maior quantidade de preferências atendidas."
   ]
  }
 ],
 "metadata": {
  "kernelspec": {
   "display_name": "Python 3",
   "language": "python",
   "name": "python3"
  },
  "language_info": {
   "codemirror_mode": {
    "name": "ipython",
    "version": 3
   },
   "file_extension": ".py",
   "mimetype": "text/x-python",
   "name": "python",
   "nbconvert_exporter": "python",
   "pygments_lexer": "ipython3",
   "version": "3.6.9"
  }
 },
 "nbformat": 4,
 "nbformat_minor": 2
}
